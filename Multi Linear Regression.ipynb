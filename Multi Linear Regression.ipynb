{
  "cells": [
    {
      "cell_type": "markdown",
      "metadata": {
        "id": "view-in-github",
        "colab_type": "text"
      },
      "source": [
        "<a href=\"https://colab.research.google.com/github/DrobertP/College-Projects/blob/main/Multi%20Linear%20Regression.ipynb\" target=\"_parent\"><img src=\"https://colab.research.google.com/assets/colab-badge.svg\" alt=\"Open In Colab\"/></a>"
      ]
    },
    {
      "cell_type": "markdown",
      "source": [
        "# Import Models"
      ],
      "metadata": {
        "id": "IrFX5gzVqLAA"
      },
      "id": "IrFX5gzVqLAA"
    },
    {
      "cell_type": "code",
      "execution_count": 1,
      "id": "d852b998",
      "metadata": {
        "id": "d852b998"
      },
      "outputs": [],
      "source": [
        "# Importing modules and packages\n",
        "import pandas as pd\n",
        "import numpy as np\n",
        "import matplotlib.pyplot as plt\n",
        "import seaborn as sns\n",
        "from sklearn.model_selection import train_test_split\n",
        "from sklearn.linear_model import LinearRegression\n",
        "from sklearn.tree import DecisionTreeRegressor\n",
        "from sklearn.ensemble import RandomForestRegressor\n",
        "from sklearn.svm import SVR\n",
        "from sklearn.metrics import mean_squared_error, mean_absolute_error, r2_score\n",
        "from sklearn.preprocessing import StandardScaler\n",
        "from sklearn import preprocessing"
      ]
    },
    {
      "cell_type": "markdown",
      "source": [
        "# Import Data"
      ],
      "metadata": {
        "id": "TdVZ6YC6qOWI"
      },
      "id": "TdVZ6YC6qOWI"
    },
    {
      "cell_type": "code",
      "execution_count": 2,
      "id": "66a9cc33",
      "metadata": {
        "id": "66a9cc33",
        "outputId": "691c7284-0982-4d8c-813c-3fefc904727f",
        "colab": {
          "base_uri": "https://localhost:8080/"
        }
      },
      "outputs": [
        {
          "output_type": "stream",
          "name": "stdout",
          "text": [
            "Original dataset shape: (414, 8)\n",
            "Columns: Index(['No', 'Transaction Date', 'House Age',\n",
            "       'Distance to the nearest MRT station', 'Number of convenience stores',\n",
            "       'Latitude', 'Longitude', 'House Price'],\n",
            "      dtype='object')\n"
          ]
        }
      ],
      "source": [
        "# Importing data\n",
        "df = pd.read_csv('Real-estate.csv')\n",
        "print(\"Original dataset shape:\", df.shape)\n",
        "print(\"Columns:\", df.columns)"
      ]
    },
    {
      "cell_type": "code",
      "execution_count": 3,
      "id": "54c13908",
      "metadata": {
        "id": "54c13908",
        "outputId": "6f6d05e7-af22-4a57-ce5c-f372c5022d89",
        "colab": {
          "base_uri": "https://localhost:8080/"
        }
      },
      "outputs": [
        {
          "output_type": "stream",
          "name": "stdout",
          "text": [
            "Dataset shape after dropping 'No' column: (414, 7)\n",
            "Remaining columns: Index(['Transaction Date', 'House Age', 'Distance to the nearest MRT station',\n",
            "       'Number of convenience stores', 'Latitude', 'Longitude', 'House Price'],\n",
            "      dtype='object')\n"
          ]
        }
      ],
      "source": [
        "# Remove the Column name \"NO\"\n",
        "df.drop('No', inplace=True, axis=1)\n",
        "print(\"Dataset shape after dropping 'No' column:\", df.shape)\n",
        "print(\"Remaining columns:\", df.columns)"
      ]
    },
    {
      "cell_type": "code",
      "execution_count": 4,
      "id": "388cba84",
      "metadata": {
        "id": "388cba84",
        "outputId": "39635b4e-7c27-423d-836c-0c1b5db33be9",
        "colab": {
          "base_uri": "https://localhost:8080/"
        }
      },
      "outputs": [
        {
          "output_type": "stream",
          "name": "stdout",
          "text": [
            "\n",
            "Head of the dataset:\n",
            "   Transaction Date  House Age  Distance to the nearest MRT station  \\\n",
            "0          2012.917       32.0                             84.87882   \n",
            "1          2012.917       19.5                            306.59470   \n",
            "2          2013.583       13.3                            561.98450   \n",
            "3          2013.500       13.3                            561.98450   \n",
            "4          2012.833        5.0                            390.56840   \n",
            "\n",
            "   Number of convenience stores  Latitude  Longitude  House Price  \n",
            "0                            10  24.98298  121.54024         37.9  \n",
            "1                             9  24.98034  121.53951         42.2  \n",
            "2                             5  24.98746  121.54391         47.3  \n",
            "3                             5  24.98746  121.54391         54.8  \n",
            "4                             5  24.97937  121.54245         43.1  \n"
          ]
        }
      ],
      "source": [
        "# Display the first few rows of the dataset\n",
        "print(\"\\nHead of the dataset:\")\n",
        "print(df.head())"
      ]
    },
    {
      "cell_type": "code",
      "execution_count": 5,
      "id": "bd6607ba",
      "metadata": {
        "id": "bd6607ba"
      },
      "outputs": [],
      "source": [
        "# Exploratory Data Analysis\n",
        "plt.figure(figsize=(12, 8))\n",
        "sns.scatterplot(x='Number of convenience stores', y='House Price', data=df)\n",
        "plt.title('House Price vs. Number of Convenience Stores')\n",
        "plt.savefig('convenience_stores_vs_price.png')\n",
        "plt.close()"
      ]
    },
    {
      "cell_type": "code",
      "source": [
        "# Correlation matrix\n",
        "plt.figure(figsize=(10, 8))\n",
        "correlation = df.corr()\n",
        "sns.heatmap(correlation, annot=True, cmap='coolwarm', fmt=\".2f\")\n",
        "plt.title('Correlation Matrix')\n",
        "plt.savefig('correlation_matrix.png')\n",
        "plt.close()"
      ],
      "metadata": {
        "id": "3Q1YDsklords"
      },
      "id": "3Q1YDsklords",
      "execution_count": 6,
      "outputs": []
    },
    {
      "cell_type": "code",
      "execution_count": 7,
      "id": "81af7ee9",
      "metadata": {
        "id": "81af7ee9"
      },
      "outputs": [],
      "source": [
        "# Creating feature variables\n",
        "X = df.drop('House Price', axis=1)\n",
        "y = df['House Price']"
      ]
    },
    {
      "cell_type": "code",
      "source": [
        "# Feature scaling - important for SVR\n",
        "scaler = StandardScaler()\n",
        "X_scaled = scaler.fit_transform(X)\n",
        "X_scaled_df = pd.DataFrame(X_scaled, columns=X.columns)"
      ],
      "metadata": {
        "id": "F50_CY39ow_r"
      },
      "id": "F50_CY39ow_r",
      "execution_count": 8,
      "outputs": []
    },
    {
      "cell_type": "code",
      "execution_count": 9,
      "id": "4ff515ee",
      "metadata": {
        "id": "4ff515ee"
      },
      "outputs": [],
      "source": [
        "# Creating train and test sets with both scaled and unscaled features\n",
        "X_train, X_test, y_train, y_test = train_test_split(X, y, test_size=0.3, random_state=101)\n",
        "X_train_scaled, X_test_scaled, y_train_scaled, y_test_scaled = train_test_split(X_scaled_df, y, test_size=0.3, random_state=70)"
      ]
    },
    {
      "cell_type": "code",
      "execution_count": 10,
      "id": "5a1a4827",
      "metadata": {
        "id": "5a1a4827",
        "outputId": "20bf5a04-0a6b-4474-9b8a-a057696f9f06",
        "colab": {
          "base_uri": "https://localhost:8080/"
        }
      },
      "outputs": [
        {
          "output_type": "stream",
          "name": "stdout",
          "text": [
            "Training set shape: (289, 6)\n",
            "Testing set shape: (125, 6)\n"
          ]
        }
      ],
      "source": [
        "print(\"Training set shape:\", X_train.shape)\n",
        "print(\"Testing set shape:\", X_test.shape)"
      ]
    },
    {
      "cell_type": "code",
      "source": [
        "# Function to evaluate models\n",
        "def evaluate_model(y_true, y_pred, model_name):\n",
        "    r2 = r2_score(y_true, y_pred)\n",
        "    mse = mean_squared_error(y_true, y_pred)\n",
        "    mae = mean_absolute_error(y_true, y_pred)\n",
        "\n",
        "    print(f\"\\n{model_name} Performance:\")\n",
        "    print(f'R2 Score: {r2:.4f}')\n",
        "    print(f'Mean Squared Error: {mse:.4f}')\n",
        "    print(f'Mean Absolute Error: {mae:.4f}')\n",
        "\n",
        "    return r2, mse, mae"
      ],
      "metadata": {
        "id": "pC6v6X-9o6V6"
      },
      "id": "pC6v6X-9o6V6",
      "execution_count": 11,
      "outputs": []
    },
    {
      "cell_type": "markdown",
      "source": [
        "# Model 1: Linear Regression"
      ],
      "metadata": {
        "id": "cuM5_fdNpOCj"
      },
      "id": "cuM5_fdNpOCj"
    },
    {
      "cell_type": "code",
      "execution_count": 12,
      "id": "b3a956f5",
      "metadata": {
        "id": "b3a956f5"
      },
      "outputs": [],
      "source": [
        "# Model 1: Linear Regression\n",
        "lr_model = LinearRegression()\n",
        "lr_model.fit(X_train, y_train)\n",
        "lr_predictions = lr_model.predict(X_test)"
      ]
    },
    {
      "cell_type": "code",
      "source": [
        "# Sample predictions vs actual values\n",
        "print(\"\\nLinear Regression - Sample Predictions vs Actual Values:\")\n",
        "sample_compare = pd.DataFrame({'Actual': y_test.iloc[0:10].values, 'Predicted': lr_predictions[0:10]})\n",
        "print(sample_compare)\n",
        "\n",
        "#Model evaluation\n",
        "lr_metrics = evaluate_model(y_test, lr_predictions, \"Linear Regression\")"
      ],
      "metadata": {
        "colab": {
          "base_uri": "https://localhost:8080/"
        },
        "id": "ApGf3uETpDKb",
        "outputId": "c3d3ea8e-e16c-4f9e-e576-9584a4f8ddf7"
      },
      "id": "ApGf3uETpDKb",
      "execution_count": 13,
      "outputs": [
        {
          "output_type": "stream",
          "name": "stdout",
          "text": [
            "\n",
            "Linear Regression - Sample Predictions vs Actual Values:\n",
            "   Actual  Predicted\n",
            "0    19.2  12.638304\n",
            "1    11.2  10.030446\n",
            "2    24.7  22.988074\n",
            "3    46.1  48.502648\n",
            "4    31.3  32.671405\n",
            "5    31.1  37.825727\n",
            "6    30.5  36.091781\n",
            "7    42.2  41.059536\n",
            "8    51.0  47.848308\n",
            "9    39.1  40.457475\n",
            "\n",
            "Linear Regression Performance:\n",
            "R2 Score: 0.6509\n",
            "Mean Squared Error: 46.2118\n",
            "Mean Absolute Error: 5.3923\n"
          ]
        }
      ]
    },
    {
      "cell_type": "markdown",
      "source": [
        "# Model 2: Decision tree Regressor"
      ],
      "metadata": {
        "id": "N9wan4wNpQ7j"
      },
      "id": "N9wan4wNpQ7j"
    },
    {
      "cell_type": "code",
      "source": [
        "# Model 2: Decision Tree Regressor\n",
        "dt_model = DecisionTreeRegressor(random_state=101)\n",
        "dt_model.fit(X_train, y_train)\n",
        "dt_predictions = dt_model.predict(X_test)\n",
        "\n",
        "# Model evaluation\n",
        "dt_metrics = evaluate_model(y_test, dt_predictions, \"Decision Tree\")"
      ],
      "metadata": {
        "colab": {
          "base_uri": "https://localhost:8080/"
        },
        "id": "5wYWTPCopJbD",
        "outputId": "694f2f21-35e9-4072-d70b-192b0f81ef4b"
      },
      "id": "5wYWTPCopJbD",
      "execution_count": 14,
      "outputs": [
        {
          "output_type": "stream",
          "name": "stdout",
          "text": [
            "\n",
            "Decision Tree Performance:\n",
            "R2 Score: 0.4256\n",
            "Mean Squared Error: 76.0427\n",
            "Mean Absolute Error: 6.2580\n"
          ]
        }
      ]
    },
    {
      "cell_type": "markdown",
      "source": [
        "# Model 3: Random Forest Regressor"
      ],
      "metadata": {
        "id": "HPXCJ6OgpXEz"
      },
      "id": "HPXCJ6OgpXEz"
    },
    {
      "cell_type": "code",
      "execution_count": 15,
      "id": "f6bea692",
      "metadata": {
        "id": "f6bea692",
        "colab": {
          "base_uri": "https://localhost:8080/"
        },
        "outputId": "c081c2ea-0e51-421a-b232-3aab637a9efb"
      },
      "outputs": [
        {
          "output_type": "stream",
          "name": "stdout",
          "text": [
            "\n",
            "Random Forest Performance:\n",
            "R2 Score: 0.7431\n",
            "Mean Squared Error: 34.0013\n",
            "Mean Absolute Error: 4.3899\n"
          ]
        }
      ],
      "source": [
        "# Model 3: Random Forest Regressor\n",
        "rf_model = RandomForestRegressor(n_estimators=100, random_state=101)\n",
        "rf_model.fit(X_train, y_train)\n",
        "rf_predictions = rf_model.predict(X_test)\n",
        "\n",
        "# Model evaluation\n",
        "rf_metrics = evaluate_model(y_test, rf_predictions, \"Random Forest\")"
      ]
    },
    {
      "cell_type": "markdown",
      "source": [
        "# Model 4: SVR"
      ],
      "metadata": {
        "id": "KINeHJLGpldB"
      },
      "id": "KINeHJLGpldB"
    },
    {
      "cell_type": "code",
      "execution_count": 16,
      "id": "877f4a57",
      "metadata": {
        "id": "877f4a57",
        "outputId": "b37a052f-68b1-4c47-b74d-da32a6024c78",
        "colab": {
          "base_uri": "https://localhost:8080/"
        }
      },
      "outputs": [
        {
          "output_type": "stream",
          "name": "stdout",
          "text": [
            "\n",
            "Support Vector Regression Performance:\n",
            "R2 Score: -0.0065\n",
            "Mean Squared Error: 133.2425\n",
            "Mean Absolute Error: 9.1899\n"
          ]
        }
      ],
      "source": [
        "# Model 4: Support Vector Regression (SVR)\n",
        "# Note: SVR works better with scaled features\n",
        "svr_model = SVR(kernel='rbf')\n",
        "svr_model.fit(X_train_scaled, y_train)\n",
        "svr_predictions = svr_model.predict(X_test_scaled)\n",
        "\n",
        "# Model evaluation\n",
        "svr_metrics = evaluate_model(y_test, svr_predictions, \"Support Vector Regression\")"
      ]
    },
    {
      "cell_type": "markdown",
      "source": [
        "# Feature Importance"
      ],
      "metadata": {
        "id": "vrQTupFspqGB"
      },
      "id": "vrQTupFspqGB"
    },
    {
      "cell_type": "code",
      "execution_count": 17,
      "id": "8c60ffa5",
      "metadata": {
        "id": "8c60ffa5",
        "outputId": "2b2d285c-cb9c-4575-d5e0-748da0f05114",
        "colab": {
          "base_uri": "https://localhost:8080/"
        }
      },
      "outputs": [
        {
          "output_type": "stream",
          "name": "stdout",
          "text": [
            "\n",
            "Random Forest Feature Importance:\n",
            "                               Feature  Importance\n",
            "2  Distance to the nearest MRT station    0.560169\n",
            "1                            House Age    0.191533\n",
            "5                            Longitude    0.098159\n",
            "4                             Latitude    0.093272\n",
            "0                     Transaction Date    0.034247\n",
            "3         Number of convenience stores    0.022619\n"
          ]
        }
      ],
      "source": [
        "# Feature importance for Random Forest\n",
        "feature_importance = pd.DataFrame({\n",
        "    'Feature': X.columns,\n",
        "    'Importance': rf_model.feature_importances_\n",
        "}).sort_values('Importance', ascending=False)\n",
        "\n",
        "print(\"\\nRandom Forest Feature Importance:\")\n",
        "print(feature_importance)\n",
        "\n",
        "plt.figure(figsize=(10, 6))\n",
        "sns.barplot(x='Importance', y='Feature', data=feature_importance)\n",
        "plt.title('Feature Importance from Random Forest')\n",
        "plt.tight_layout()\n",
        "plt.savefig('feature_importance.png')\n",
        "plt.close()\n"
      ]
    },
    {
      "cell_type": "markdown",
      "source": [
        "## Model Comparison"
      ],
      "metadata": {
        "id": "wZ37k7Tfq470"
      },
      "id": "wZ37k7Tfq470"
    },
    {
      "cell_type": "code",
      "source": [
        "# Comparison of models\n",
        "models = ['Linear Regression', 'Decision Tree', 'Random Forest', 'SVR']\n",
        "r2_scores = [lr_metrics[0], dt_metrics[0], rf_metrics[0], svr_metrics[0]]\n",
        "mse_scores = [lr_metrics[1], dt_metrics[1], rf_metrics[1], svr_metrics[1]]\n",
        "mae_scores = [lr_metrics[2], dt_metrics[2], rf_metrics[2], svr_metrics[2]]\n",
        "\n",
        "comparison_df = pd.DataFrame({\n",
        "    'Model': models,\n",
        "    'R² Score': r2_scores,\n",
        "    'MSE': mse_scores,\n",
        "    'MAE': mae_scores\n",
        "})\n",
        "print(\"\\nModel Comparison:\")\n",
        "print(comparison_df)"
      ],
      "metadata": {
        "colab": {
          "base_uri": "https://localhost:8080/"
        },
        "id": "n3voKSNKpwzS",
        "outputId": "eb17844c-9975-47c8-fa8e-50e4ef16d3a4"
      },
      "id": "n3voKSNKpwzS",
      "execution_count": 18,
      "outputs": [
        {
          "output_type": "stream",
          "name": "stdout",
          "text": [
            "\n",
            "Model Comparison:\n",
            "               Model  R² Score         MSE       MAE\n",
            "0  Linear Regression  0.650906   46.211798  5.392294\n",
            "1      Decision Tree  0.425557   76.042660  6.258000\n",
            "2      Random Forest  0.743146   34.001350  4.389857\n",
            "3                SVR -0.006543  133.242492  9.189943\n"
          ]
        }
      ]
    },
    {
      "cell_type": "markdown",
      "source": [
        "# Visualization of Model Performance"
      ],
      "metadata": {
        "id": "14fZSpHkp7C4"
      },
      "id": "14fZSpHkp7C4"
    },
    {
      "cell_type": "code",
      "source": [
        "# Visualizing model performance\n",
        "plt.figure(figsize=(12, 6))\n",
        "sns.barplot(x='Model', y='R² Score', data=comparison_df)\n",
        "plt.title('R² Score Comparison')\n",
        "plt.ylim(0, 1)  # R² is usually between 0 and 1\n",
        "plt.savefig('r2_comparison.png')"
      ],
      "metadata": {
        "colab": {
          "base_uri": "https://localhost:8080/",
          "height": 564
        },
        "id": "N-uzjTbdpzUo",
        "outputId": "d9227d90-40d2-464c-fb0f-fe5a6b2c0445"
      },
      "id": "N-uzjTbdpzUo",
      "execution_count": 19,
      "outputs": [
        {
          "output_type": "display_data",
          "data": {
            "text/plain": [
              "<Figure size 1200x600 with 1 Axes>"
            ],
            "image/png": "[encoded data removed]"
          },
          "metadata": {}
        }
      ]
    },
    {
      "cell_type": "markdown",
      "source": [],
      "metadata": {
        "id": "9b08Otwlp6Nx"
      },
      "id": "9b08Otwlp6Nx"
    },
    {
      "cell_type": "code",
      "source": [
        "# Visualizing predictions vs actual for the best model (assuming Random Forest)\n",
        "plt.figure(figsize=(10, 6))\n",
        "plt.scatter(y_test, rf_predictions, alpha=0.5)\n",
        "plt.plot([y_test.min(), y_test.max()], [y_test.min(), y_test.max()], 'r--')\n",
        "plt.xlabel('Actual House Price')\n",
        "plt.ylabel('Predicted House Price')\n",
        "plt.title('Random Forest: Actual vs Predicted Prices')\n",
        "plt.savefig('rf_actual_vs_predicted.png')\n"
      ],
      "metadata": {
        "colab": {
          "base_uri": "https://localhost:8080/",
          "height": 564
        },
        "id": "KlUZug8uqAP4",
        "outputId": "e481aed3-28d9-4267-b096-7678f8963cf5"
      },
      "id": "KlUZug8uqAP4",
      "execution_count": 20,
      "outputs": [
        {
          "output_type": "display_data",
          "data": {
            "text/plain": [
              "<Figure size 1000x600 with 1 Axes>"
            ],
            "image/png": "[encoded data removed]"
          },
          "metadata": {}
        }
      ]
    },
    {
      "cell_type": "code",
      "source": [
        "# Save all models\n",
        "import joblib\n",
        "joblib.dump(lr_model, 'linear_regression_model.pkl')\n",
        "joblib.dump(dt_model, 'decision_tree_model.pkl')\n",
        "joblib.dump(rf_model, 'random_forest_model.pkl')\n",
        "joblib.dump(svr_model, 'svr_model.pkl')\n",
        "joblib.dump(scaler, 'scaler.pkl')\n",
        "\n",
        "print(\"\\nAll models have been saved to disk.\")"
      ],
      "metadata": {
        "colab": {
          "base_uri": "https://localhost:8080/"
        },
        "id": "LMmurxPSqC8X",
        "outputId": "21856da7-5500-4163-8cb4-979e175d7ab1"
      },
      "id": "LMmurxPSqC8X",
      "execution_count": 21,
      "outputs": [
        {
          "output_type": "stream",
          "name": "stdout",
          "text": [
            "\n",
            "All models have been saved to disk.\n"
          ]
        }
      ]
    },
    {
      "cell_type": "markdown",
      "source": [
        "# Summary of Models"
      ],
      "metadata": {
        "id": "6wcqrY_hqG2P"
      },
      "id": "6wcqrY_hqG2P"
    },
    {
      "cell_type": "code",
      "source": [
        "# Summary\n",
        "print(\"\\nSummary:\")\n",
        "print(\"1. The Random Forest model generally performs best for real estate price prediction.\")\n",
        "print(\"2. Feature importance analysis helps identify the key factors affecting house prices.\")\n",
        "print(\"3. SVR requires feature scaling to perform optimally.\")\n",
        "print(\"4. All models have been saved for future use.\")"
      ],
      "metadata": {
        "colab": {
          "base_uri": "https://localhost:8080/"
        },
        "id": "abT19K9tqEs3",
        "outputId": "33e782ad-e9ca-4392-8faf-f9022dec46c1"
      },
      "id": "abT19K9tqEs3",
      "execution_count": 22,
      "outputs": [
        {
          "output_type": "stream",
          "name": "stdout",
          "text": [
            "\n",
            "Summary:\n",
            "1. The Random Forest model generally performs best for real estate price prediction.\n",
            "2. Feature importance analysis helps identify the key factors affecting house prices.\n",
            "3. SVR requires feature scaling to perform optimally.\n",
            "4. All models have been saved for future use.\n"
          ]
        }
      ]
    }
  ],
  "metadata": {
    "kernelspec": {
      "display_name": "Python 3 (ipykernel)",
      "language": "python",
      "name": "python3"
    },
    "language_info": {
      "codemirror_mode": {
        "name": "ipython",
        "version": 3
      },
      "file_extension": ".py",
      "mimetype": "text/x-python",
      "name": "python",
      "nbconvert_exporter": "python",
      "pygments_lexer": "ipython3",
      "version": "3.9.16"
    },
    "colab": {
      "provenance": [],
      "include_colab_link": true
    }
  },
  "nbformat": 4,
  "nbformat_minor": 5
}